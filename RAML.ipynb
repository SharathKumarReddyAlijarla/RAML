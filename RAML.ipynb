{
 "cells": [
  {
   "cell_type": "code",
   "execution_count": 1,
   "id": "fb43dbcb",
   "metadata": {},
   "outputs": [
    {
     "data": {
      "text/plain": [
       "((60000, 28, 28), (60000,), (10000, 28, 28), (10000,))"
      ]
     },
     "execution_count": 1,
     "metadata": {},
     "output_type": "execute_result"
    }
   ],
   "source": [
    "import tensorflow as tf\n",
    "\n",
    "mnist = tf.keras.datasets.mnist\n",
    "\n",
    "(X_train, y_train), (X_test, y_test) = mnist.load_data()\n",
    "\n",
    "X_train.shape, y_train.shape, X_test.shape, y_test.shape"
   ]
  },
  {
   "cell_type": "code",
   "execution_count": 2,
   "id": "10a38b35",
   "metadata": {},
   "outputs": [
    {
     "name": "stdout",
     "output_type": "stream",
     "text": [
      "Model: \"model\"\n",
      "__________________________________________________________________________________________________\n",
      " Layer (type)                   Output Shape         Param #     Connected to                     \n",
      "==================================================================================================\n",
      " img_A_inp (InputLayer)         [(None, 28, 28)]     0           []                               \n",
      "                                                                                                  \n",
      " img_B_inp (InputLayer)         [(None, 28, 28)]     0           []                               \n",
      "                                                                                                  \n",
      " sequential_4 (Sequential)      (None, 64)           1586496     ['img_A_inp[0][0]',              \n",
      "                                                                  'img_B_inp[0][0]']              \n",
      "                                                                                                  \n",
      " concatenate (Concatenate)      (None, 128)          0           ['sequential_4[0][0]',           \n",
      "                                                                  'sequential_4[1][0]']           \n",
      "                                                                                                  \n",
      " dense_1 (Dense)                (None, 64)           8256        ['concatenate[0][0]']            \n",
      "                                                                                                  \n",
      " dense_2 (Dense)                (None, 128)          8320        ['dense_1[0][0]']                \n",
      "                                                                                                  \n",
      " dense_3 (Dense)                (None, 1)            129         ['dense_2[0][0]']                \n",
      "                                                                                                  \n",
      "==================================================================================================\n",
      "Total params: 1,603,201\n",
      "Trainable params: 1,601,281\n",
      "Non-trainable params: 1,920\n",
      "__________________________________________________________________________________________________\n",
      "Number of layers in the CNN: 7\n"
     ]
    }
   ],
   "source": [
    "\n",
    "from tensorflow.keras.layers import *\n",
    "from tensorflow.keras.models import Sequential, Model\n",
    "from tensorflow.keras.initializers import he_uniform\n",
    "from tensorflow.keras.initializers import glorot_uniform\n",
    "\n",
    "\n",
    "img_A_inp = Input((28, 28), name='img_A_inp')\n",
    "img_B_inp = Input((28, 28), name='img_B_inp')\n",
    "\n",
    "def get_cnn_block(depth):\n",
    "    return Sequential([Conv2D(depth, 3, 1, kernel_initializer=glorot_uniform()),\n",
    "                       BatchNormalization(),\n",
    "                       ReLU()])\n",
    "\n",
    "DEPTH = 64\n",
    "cnn = Sequential([Reshape((28, 28, 1)),\n",
    "                  get_cnn_block(DEPTH),\n",
    "                  get_cnn_block(DEPTH*2),\n",
    "                  get_cnn_block(DEPTH*4),\n",
    "                  get_cnn_block(DEPTH*8),\n",
    "                  GlobalAveragePooling2D(),\n",
    "                  Dense(64, activation='relu')])\n",
    "\n",
    "feature_vector_A = cnn(img_A_inp)\n",
    "feature_vector_B = cnn(img_B_inp)\n",
    "\n",
    "concat = Concatenate()([feature_vector_A, feature_vector_B])\n",
    "\n",
    "dense = Dense(64, activation='relu')(concat)\n",
    "dense1 = Dense(128, activation='relu')(dense)\n",
    "output = Dense(1, activation='sigmoid')(dense1)\n",
    "\n",
    "model = Model(inputs=[img_A_inp, img_B_inp], outputs=output)\n",
    "\n",
    "model.summary()\n",
    "# Get the number of layers in the model\n",
    "num_layers = len(model.layers)\n",
    "\n",
    "print(\"Number of layers in the CNN:\", num_layers)"
   ]
  },
  {
   "cell_type": "code",
   "execution_count": 3,
   "id": "6f590690",
   "metadata": {},
   "outputs": [
    {
     "data": {
      "text/plain": [
       "10000"
      ]
     },
     "execution_count": 3,
     "metadata": {},
     "output_type": "execute_result"
    }
   ],
   "source": [
    "import numpy as np\n",
    "\n",
    "random_indices = np.random.choice(X_train.shape[0], 100, replace=False)\n",
    "\n",
    "X_train_sample, y_train_sample = X_train[random_indices], y_train[random_indices]\n",
    "\n",
    "X_train_sample.shape, y_train_sample.shape\n",
    "\n",
    "len(X_train_sample) ** 2"
   ]
  },
  {
   "cell_type": "code",
   "execution_count": 4,
   "id": "b22530df",
   "metadata": {},
   "outputs": [],
   "source": [
    "import itertools\n",
    "\n",
    "def make_paired_dataset(X, y):\n",
    "  X_pairs, y_pairs = [], []\n",
    "\n",
    "  tuples = [(x1, y1) for x1, y1 in zip(X, y)]\n",
    "  \n",
    "  for t in itertools.product(tuples, tuples):\n",
    "    pair_A, pair_B = t\n",
    "    img_A, label_A = t[0]\n",
    "    img_B, label_B = t[1]\n",
    "\n",
    "    new_label = int(label_A == label_B)\n",
    "\n",
    "    X_pairs.append([img_A, img_B])\n",
    "    y_pairs.append(new_label)\n",
    "  \n",
    "  X_pairs = np.array(X_pairs)\n",
    "  y_pairs = np.array(y_pairs)\n",
    "\n",
    "  return X_pairs, y_pairs"
   ]
  },
  {
   "cell_type": "code",
   "execution_count": 5,
   "id": "e6e5054b",
   "metadata": {},
   "outputs": [
    {
     "data": {
      "text/plain": [
       "(array([[[[0, 0, 0, ..., 0, 0, 0],\n",
       "          [0, 0, 0, ..., 0, 0, 0],\n",
       "          [0, 0, 0, ..., 0, 0, 0],\n",
       "          ...,\n",
       "          [0, 0, 0, ..., 0, 0, 0],\n",
       "          [0, 0, 0, ..., 0, 0, 0],\n",
       "          [0, 0, 0, ..., 0, 0, 0]],\n",
       " \n",
       "         [[0, 0, 0, ..., 0, 0, 0],\n",
       "          [0, 0, 0, ..., 0, 0, 0],\n",
       "          [0, 0, 0, ..., 0, 0, 0],\n",
       "          ...,\n",
       "          [0, 0, 0, ..., 0, 0, 0],\n",
       "          [0, 0, 0, ..., 0, 0, 0],\n",
       "          [0, 0, 0, ..., 0, 0, 0]]],\n",
       " \n",
       " \n",
       "        [[[0, 0, 0, ..., 0, 0, 0],\n",
       "          [0, 0, 0, ..., 0, 0, 0],\n",
       "          [0, 0, 0, ..., 0, 0, 0],\n",
       "          ...,\n",
       "          [0, 0, 0, ..., 0, 0, 0],\n",
       "          [0, 0, 0, ..., 0, 0, 0],\n",
       "          [0, 0, 0, ..., 0, 0, 0]],\n",
       " \n",
       "         [[0, 0, 0, ..., 0, 0, 0],\n",
       "          [0, 0, 0, ..., 0, 0, 0],\n",
       "          [0, 0, 0, ..., 0, 0, 0],\n",
       "          ...,\n",
       "          [0, 0, 0, ..., 0, 0, 0],\n",
       "          [0, 0, 0, ..., 0, 0, 0],\n",
       "          [0, 0, 0, ..., 0, 0, 0]]],\n",
       " \n",
       " \n",
       "        [[[0, 0, 0, ..., 0, 0, 0],\n",
       "          [0, 0, 0, ..., 0, 0, 0],\n",
       "          [0, 0, 0, ..., 0, 0, 0],\n",
       "          ...,\n",
       "          [0, 0, 0, ..., 0, 0, 0],\n",
       "          [0, 0, 0, ..., 0, 0, 0],\n",
       "          [0, 0, 0, ..., 0, 0, 0]],\n",
       " \n",
       "         [[0, 0, 0, ..., 0, 0, 0],\n",
       "          [0, 0, 0, ..., 0, 0, 0],\n",
       "          [0, 0, 0, ..., 0, 0, 0],\n",
       "          ...,\n",
       "          [0, 0, 0, ..., 0, 0, 0],\n",
       "          [0, 0, 0, ..., 0, 0, 0],\n",
       "          [0, 0, 0, ..., 0, 0, 0]]],\n",
       " \n",
       " \n",
       "        ...,\n",
       " \n",
       " \n",
       "        [[[0, 0, 0, ..., 0, 0, 0],\n",
       "          [0, 0, 0, ..., 0, 0, 0],\n",
       "          [0, 0, 0, ..., 0, 0, 0],\n",
       "          ...,\n",
       "          [0, 0, 0, ..., 0, 0, 0],\n",
       "          [0, 0, 0, ..., 0, 0, 0],\n",
       "          [0, 0, 0, ..., 0, 0, 0]],\n",
       " \n",
       "         [[0, 0, 0, ..., 0, 0, 0],\n",
       "          [0, 0, 0, ..., 0, 0, 0],\n",
       "          [0, 0, 0, ..., 0, 0, 0],\n",
       "          ...,\n",
       "          [0, 0, 0, ..., 0, 0, 0],\n",
       "          [0, 0, 0, ..., 0, 0, 0],\n",
       "          [0, 0, 0, ..., 0, 0, 0]]],\n",
       " \n",
       " \n",
       "        [[[0, 0, 0, ..., 0, 0, 0],\n",
       "          [0, 0, 0, ..., 0, 0, 0],\n",
       "          [0, 0, 0, ..., 0, 0, 0],\n",
       "          ...,\n",
       "          [0, 0, 0, ..., 0, 0, 0],\n",
       "          [0, 0, 0, ..., 0, 0, 0],\n",
       "          [0, 0, 0, ..., 0, 0, 0]],\n",
       " \n",
       "         [[0, 0, 0, ..., 0, 0, 0],\n",
       "          [0, 0, 0, ..., 0, 0, 0],\n",
       "          [0, 0, 0, ..., 0, 0, 0],\n",
       "          ...,\n",
       "          [0, 0, 0, ..., 0, 0, 0],\n",
       "          [0, 0, 0, ..., 0, 0, 0],\n",
       "          [0, 0, 0, ..., 0, 0, 0]]],\n",
       " \n",
       " \n",
       "        [[[0, 0, 0, ..., 0, 0, 0],\n",
       "          [0, 0, 0, ..., 0, 0, 0],\n",
       "          [0, 0, 0, ..., 0, 0, 0],\n",
       "          ...,\n",
       "          [0, 0, 0, ..., 0, 0, 0],\n",
       "          [0, 0, 0, ..., 0, 0, 0],\n",
       "          [0, 0, 0, ..., 0, 0, 0]],\n",
       " \n",
       "         [[0, 0, 0, ..., 0, 0, 0],\n",
       "          [0, 0, 0, ..., 0, 0, 0],\n",
       "          [0, 0, 0, ..., 0, 0, 0],\n",
       "          ...,\n",
       "          [0, 0, 0, ..., 0, 0, 0],\n",
       "          [0, 0, 0, ..., 0, 0, 0],\n",
       "          [0, 0, 0, ..., 0, 0, 0]]]], dtype=uint8),\n",
       " array([1, 1, 0, ..., 0, 0, 1]))"
      ]
     },
     "execution_count": 5,
     "metadata": {},
     "output_type": "execute_result"
    }
   ],
   "source": [
    "make_paired_dataset(X_train_sample, y_train_sample)"
   ]
  },
  {
   "cell_type": "code",
   "execution_count": 6,
   "id": "cc7c50a7",
   "metadata": {},
   "outputs": [
    {
     "data": {
      "text/plain": [
       "((10000, 2, 28, 28), (10000,))"
      ]
     },
     "execution_count": 6,
     "metadata": {},
     "output_type": "execute_result"
    }
   ],
   "source": [
    "X_train_pairs, y_train_pairs = make_paired_dataset(X_train_sample, y_train_sample)\n",
    "\n",
    "X_train_pairs.shape, y_train_pairs.shape"
   ]
  },
  {
   "cell_type": "code",
   "execution_count": 7,
   "id": "b6dd3e31",
   "metadata": {},
   "outputs": [
    {
     "data": {
      "text/plain": [
       "((50, 28, 28), (50,))"
      ]
     },
     "execution_count": 7,
     "metadata": {},
     "output_type": "execute_result"
    }
   ],
   "source": [
    "random_indices = np.random.choice(X_test.shape[0], 50, replace=False)\n",
    "\n",
    "X_test_sample, y_test_sample = X_test[random_indices], y_test[random_indices]\n",
    "\n",
    "X_test_sample.shape, y_test_sample.shape"
   ]
  },
  {
   "cell_type": "code",
   "execution_count": 8,
   "id": "09eaec6d",
   "metadata": {},
   "outputs": [
    {
     "data": {
      "text/plain": [
       "((2500, 2, 28, 28), (2500,))"
      ]
     },
     "execution_count": 8,
     "metadata": {},
     "output_type": "execute_result"
    }
   ],
   "source": [
    "\n",
    "X_test_pairs, y_test_pairs = make_paired_dataset(X_test_sample, y_test_sample)\n",
    "\n",
    "X_test_pairs.shape, y_test_pairs.shape"
   ]
  },
  {
   "cell_type": "code",
   "execution_count": 9,
   "id": "c92113e0",
   "metadata": {},
   "outputs": [],
   "source": [
    "model.compile(loss='binary_crossentropy',\n",
    "              optimizer=tf.keras.optimizers.Adam(learning_rate=0.001),\n",
    "              metrics=['accuracy'])"
   ]
  },
  {
   "cell_type": "code",
   "execution_count": 10,
   "id": "270bf863",
   "metadata": {},
   "outputs": [],
   "source": [
    "from tensorflow.keras.callbacks import EarlyStopping\n",
    "\n",
    "es = EarlyStopping(patience=3)"
   ]
  },
  {
   "cell_type": "code",
   "execution_count": 11,
   "id": "7ba17f98",
   "metadata": {},
   "outputs": [
    {
     "name": "stdout",
     "output_type": "stream",
     "text": [
      "Epoch 1/10\n",
      "10/10 [==============================] - 694s 70s/step - loss: 0.4106 - accuracy: 0.8641 - val_loss: 0.6801 - val_accuracy: 0.8896\n",
      "Epoch 2/10\n",
      "10/10 [==============================] - 574s 58s/step - loss: 0.3444 - accuracy: 0.8896 - val_loss: 0.7854 - val_accuracy: 0.8896\n",
      "Epoch 3/10\n",
      "10/10 [==============================] - 627s 64s/step - loss: 0.3336 - accuracy: 0.8896 - val_loss: 0.5260 - val_accuracy: 0.8896\n",
      "Epoch 4/10\n",
      "10/10 [==============================] - 676s 68s/step - loss: 0.3180 - accuracy: 0.8896 - val_loss: 0.4050 - val_accuracy: 0.8896\n",
      "Epoch 5/10\n",
      "10/10 [==============================] - 667s 68s/step - loss: 0.2985 - accuracy: 0.8896 - val_loss: 0.3220 - val_accuracy: 0.8896\n",
      "Epoch 6/10\n",
      "10/10 [==============================] - 693s 70s/step - loss: 0.2811 - accuracy: 0.8927 - val_loss: 0.3123 - val_accuracy: 0.8900\n",
      "Epoch 7/10\n",
      "10/10 [==============================] - 703s 71s/step - loss: 0.2619 - accuracy: 0.9006 - val_loss: 0.3625 - val_accuracy: 0.8896\n",
      "Epoch 8/10\n",
      "10/10 [==============================] - 689s 69s/step - loss: 0.2439 - accuracy: 0.9017 - val_loss: 0.3733 - val_accuracy: 0.8896\n",
      "Epoch 9/10\n",
      "10/10 [==============================] - 660s 66s/step - loss: 0.2306 - accuracy: 0.9023 - val_loss: 0.3470 - val_accuracy: 0.8896\n"
     ]
    },
    {
     "data": {
      "text/plain": [
       "<keras.callbacks.History at 0x1dae9ce23e0>"
      ]
     },
     "execution_count": 11,
     "metadata": {},
     "output_type": "execute_result"
    }
   ],
   "source": [
    "model.fit(x=[X_train_pairs[:, 0, :, :], X_train_pairs[:, 1, :, :]],\n",
    "          y=y_train_pairs,\n",
    "          validation_data=([X_test_pairs[:, 0, :, :], \n",
    "                            X_test_pairs[:, 1, :, :]],\n",
    "                           y_test_pairs),\n",
    "          epochs=10,\n",
    "          batch_size=1024,\n",
    "          callbacks=[es])"
   ]
  },
  {
   "cell_type": "code",
   "execution_count": 12,
   "id": "f55d7fb4",
   "metadata": {},
   "outputs": [
    {
     "data": {
      "text/plain": [
       "(7, 7)"
      ]
     },
     "execution_count": 12,
     "metadata": {},
     "output_type": "execute_result"
    }
   ],
   "source": [
    "img_A, img_B = X_test[0], X_test[17]\n",
    "label_A, label_B = y_test[0], y_test[17]\n",
    "\n",
    "label_A, label_B"
   ]
  },
  {
   "cell_type": "code",
   "execution_count": 13,
   "id": "7dd06d95",
   "metadata": {},
   "outputs": [
    {
     "data": {
      "text/plain": [
       "<matplotlib.image.AxesImage at 0x1daf73dd000>"
      ]
     },
     "execution_count": 13,
     "metadata": {},
     "output_type": "execute_result"
    },
    {
     "data": {
      "image/png": "[encoded data removed]",
      "text/plain": [
       "<Figure size 168x112 with 1 Axes>"
      ]
     },
     "metadata": {
      "needs_background": "light"
     },
     "output_type": "display_data"
    }
   ],
   "source": [
    "\n",
    "import matplotlib.pyplot as plt\n",
    "\n",
    "plt.figure(dpi=28)\n",
    "plt.imshow(img_A)"
   ]
  },
  {
   "cell_type": "code",
   "execution_count": 14,
   "id": "035c4c93",
   "metadata": {},
   "outputs": [
    {
     "data": {
      "text/plain": [
       "<matplotlib.image.AxesImage at 0x1daf94b9810>"
      ]
     },
     "execution_count": 14,
     "metadata": {},
     "output_type": "execute_result"
    },
    {
     "data": {
      "image/png": "[encoded data removed]",
      "text/plain": [
       "<Figure size 168x112 with 1 Axes>"
      ]
     },
     "metadata": {
      "needs_background": "light"
     },
     "output_type": "display_data"
    }
   ],
   "source": [
    "\n",
    "plt.figure(dpi=28)\n",
    "plt.imshow(img_B)"
   ]
  },
  {
   "cell_type": "code",
   "execution_count": 15,
   "id": "35ee067b",
   "metadata": {},
   "outputs": [
    {
     "data": {
      "text/plain": [
       "False"
      ]
     },
     "execution_count": 15,
     "metadata": {},
     "output_type": "execute_result"
    }
   ],
   "source": [
    "\n",
    "model.predict([img_A.reshape((1, 28, 28)), \n",
    "               img_B.reshape((1, 28, 28))]).flatten()[0] > 0.5\n",
    "\n"
   ]
  },
  {
   "cell_type": "code",
   "execution_count": null,
   "id": "dd131539",
   "metadata": {},
   "outputs": [],
   "source": []
  },
  {
   "cell_type": "code",
   "execution_count": null,
   "id": "28bc8438",
   "metadata": {},
   "outputs": [],
   "source": []
  }
 ],
 "metadata": {
  "kernelspec": {
   "display_name": "Python 3 (ipykernel)",
   "language": "python",
   "name": "python3"
  },
  "language_info": {
   "codemirror_mode": {
    "name": "ipython",
    "version": 3
   },
   "file_extension": ".py",
   "mimetype": "text/x-python",
   "name": "python",
   "nbconvert_exporter": "python",
   "pygments_lexer": "ipython3",
   "version": "3.10.4"
  }
 },
 "nbformat": 4,
 "nbformat_minor": 5
}
